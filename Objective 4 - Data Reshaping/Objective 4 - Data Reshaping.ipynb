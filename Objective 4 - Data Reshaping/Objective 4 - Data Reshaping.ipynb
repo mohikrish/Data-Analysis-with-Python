{
 "cells": [
  {
   "cell_type": "markdown",
   "metadata": {},
   "source": [
    "### Example of Reshaping Data  from wide to long format"
   ]
  },
  {
   "cell_type": "markdown",
   "metadata": {},
   "source": [
    "### Environment set up and data"
   ]
  },
  {
   "cell_type": "code",
   "execution_count": 1,
   "metadata": {
    "collapsed": true
   },
   "outputs": [],
   "source": [
    "# Import the relevant libraries...\n",
    "# By the way, I am ussing Python 3\n",
    "import pandas as pd\n",
    "# Load the raw data using the ExcelFile object\n",
    "data = pd.ExcelFile('reshaping_data.xlsx')"
   ]
  },
  {
   "cell_type": "markdown",
   "metadata": {},
   "source": [
    "### Reusable Function"
   ]
  },
  {
   "cell_type": "code",
   "execution_count": 2,
   "metadata": {
    "collapsed": true
   },
   "outputs": [],
   "source": [
    "# Now define a function for parsing other funder targets data\n",
    "def ReshapeFunc(excel_obj, i):\n",
    "    \"\"\" Takes in an excel file object with multiple tabs in a wide format, and a specified index\n",
    "    of the tab to be parsed and reshaped. Returns a dataframe of the specified tab\n",
    "    reshaped to long format\"\"\"\n",
    "    \n",
    "    tabnames = data.sheet_names\n",
    "    assert i < len(tabnames), \"Your tab index exceeds the number of available tabs, try a lower number\" \n",
    "    \n",
    "    # parse and clean columns\n",
    "    df = excel_obj.parse(sheetname=tabnames[i], skiprows=7)\n",
    "    cols1 = [str(x)[:4] for x in list(df.columns)]\n",
    "    cols2 = [str(x) for x in list(df.iloc[0,:])]\n",
    "    cols = [x+\"_\"+y for x,y in zip(cols1,cols2)]\n",
    "    df.columns = cols\n",
    "    df = df.drop([\"Unna_nan\"], axis=1).iloc[1:,:].rename(columns={'dist_nan':'district',\n",
    "                                                       'prov_nan': 'province',\n",
    "                                                       'part_nan':'partner',\n",
    "                                                       'fund_nan':'financing_source'})\n",
    "    # new columns, drop some and change data type\n",
    "    df['main_organization'] = tabnames[i].split(\"_\")[0] + \" \"+ tabnames[i].split(\"_\")[1]\n",
    "    df.drop([c for c in df.columns if \"Total\" in c], axis=1, inplace= True) \n",
    "    \n",
    "    for c in [c for c in df.columns if \"yrs\" in c]:\n",
    "        df[c] = df[c].apply(lambda x: pd.to_numeric(x))\n",
    "\n",
    "    # reshape - indexing, pivoting and stacking\n",
    "    idx = ['district','province', 'partner','financing_source','main_organization']\n",
    "    multi_indexed_df = df.set_index(idx)\n",
    "    stacked_df = multi_indexed_df.stack(dropna=False)\n",
    "    stacked_df.head(25) # check out the results!\n",
    "    long_df = stacked_df.reset_index()\n",
    "    \n",
    "    # clean up and finalize\n",
    "    col_str = long_df.level_5.str.split(\"_\") \n",
    "    long_df['target_year'] = [x[0] for x in col_str] \n",
    "    long_df['target_age'] = [x[1] for x in col_str]\n",
    "    long_df['target_quantity'] = long_df[0] # rename this column\n",
    "    df_final = long_df.drop(['level_5', 0], axis=1)\n",
    "\n",
    "    return df_final"
   ]
  },
  {
   "cell_type": "markdown",
   "metadata": {},
   "source": [
    "### Use function, concatenate and save results"
   ]
  },
  {
   "cell_type": "code",
   "execution_count": 3,
   "metadata": {},
   "outputs": [
    {
     "data": {
      "text/html": [
       "<div>\n",
       "<style>\n",
       "    .dataframe thead tr:only-child th {\n",
       "        text-align: right;\n",
       "    }\n",
       "\n",
       "    .dataframe thead th {\n",
       "        text-align: left;\n",
       "    }\n",
       "\n",
       "    .dataframe tbody tr th {\n",
       "        vertical-align: top;\n",
       "    }\n",
       "</style>\n",
       "<table border=\"1\" class=\"dataframe\">\n",
       "  <thead>\n",
       "    <tr style=\"text-align: right;\">\n",
       "      <th></th>\n",
       "      <th>district</th>\n",
       "      <th>province</th>\n",
       "      <th>partner</th>\n",
       "      <th>financing_source</th>\n",
       "      <th>main_organization</th>\n",
       "      <th>target_year</th>\n",
       "      <th>target_age</th>\n",
       "      <th>target_quantity</th>\n",
       "    </tr>\n",
       "  </thead>\n",
       "  <tbody>\n",
       "    <tr>\n",
       "      <th>0</th>\n",
       "      <td>District 19</td>\n",
       "      <td>Region 4</td>\n",
       "      <td>partner 3</td>\n",
       "      <td>Souce 4</td>\n",
       "      <td>OPQ inc</td>\n",
       "      <td>2017</td>\n",
       "      <td>10-14yrs</td>\n",
       "      <td>1</td>\n",
       "    </tr>\n",
       "    <tr>\n",
       "      <th>1</th>\n",
       "      <td>District 19</td>\n",
       "      <td>Region 4</td>\n",
       "      <td>partner 3</td>\n",
       "      <td>Souce 4</td>\n",
       "      <td>OPQ inc</td>\n",
       "      <td>2017</td>\n",
       "      <td>15-29yrs</td>\n",
       "      <td>974</td>\n",
       "    </tr>\n",
       "  </tbody>\n",
       "</table>\n",
       "</div>"
      ],
      "text/plain": [
       "      district  province    partner financing_source main_organization  \\\n",
       "0  District 19  Region 4  partner 3          Souce 4           OPQ inc   \n",
       "1  District 19  Region 4  partner 3          Souce 4           OPQ inc   \n",
       "\n",
       "  target_year target_age  target_quantity  \n",
       "0        2017   10-14yrs                1  \n",
       "1        2017   15-29yrs              974  "
      ]
     },
     "execution_count": 3,
     "metadata": {},
     "output_type": "execute_result"
    }
   ],
   "source": [
    "# Check that our function works:\n",
    "check_df = ReshapeFunc(data, 2)\n",
    "check_df.head(2)"
   ]
  },
  {
   "cell_type": "code",
   "execution_count": 4,
   "metadata": {
    "collapsed": true
   },
   "outputs": [],
   "source": [
    "# Apply the function iteratively, concatenate and save\n",
    "dfs_list = [ReshapeFunc(data, i) for i in range(4)]\n",
    "concat_dfs  = pd.concat(dfs_list)\n",
    "concat_dfs.to_excel(\"reshaping_result_long_format.xlsx\")"
   ]
  }
 ],
 "metadata": {
  "kernelspec": {
   "display_name": "Python 3",
   "language": "python",
   "name": "python3"
  },
  "language_info": {
   "codemirror_mode": {
    "name": "ipython",
    "version": 3
   },
   "file_extension": ".py",
   "mimetype": "text/x-python",
   "name": "python",
   "nbconvert_exporter": "python",
   "pygments_lexer": "ipython3",
   "version": "3.6.3"
  }
 },
 "nbformat": 4,
 "nbformat_minor": 2
}
