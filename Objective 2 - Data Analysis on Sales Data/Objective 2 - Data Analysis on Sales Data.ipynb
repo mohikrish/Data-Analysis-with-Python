{
 "cells": [
  {
   "cell_type": "markdown",
   "metadata": {},
   "source": [
    "## Data Analysis on \"Sales\" Data"
   ]
  },
  {
   "cell_type": "markdown",
   "metadata": {},
   "source": [
    "Insights into a Sales Data of a Shopping Mall. \n",
    "Python code is used to explore the data, gain insights into the Sales by Category, Products and Profits."
   ]
  },
  {
   "cell_type": "code",
   "execution_count": 5,
   "metadata": {},
   "outputs": [],
   "source": [
    "import numpy as np\n",
    "import pandas as pd"
   ]
  },
  {
   "cell_type": "code",
   "execution_count": 12,
   "metadata": {},
   "outputs": [
    {
     "name": "stdout",
     "output_type": "stream",
     "text": [
      "           Order ID                                  Product Name  Discount  \\\n",
      "0   AZ-2011-1029887    Novimex Color Coded Labels, 5000 Label Set       0.0   \n",
      "1    AZ-2011-107716                Deflect-O Door Stop, Erganomic       0.0   \n",
      "2   AZ-2011-1087704                 Belkin Flash Drive, Bluetooth       0.0   \n",
      "3   AZ-2011-1372644                    Panasonic Printer, Durable       0.0   \n",
      "4   AZ-2011-1362199                     Sanford Pens, Fluorescent       0.5   \n",
      "..              ...                                           ...       ...   \n",
      "4   AZ-2011-1967754                  Logitech Numeric Keypad, USB       0.0   \n",
      "5   AZ-2011-1976919                          Boston Markers, Blue       0.0   \n",
      "6   AZ-2011-2001312                  Avery Binding Machine, Clear       0.0   \n",
      "7   AZ-2011-2002251     SanDisk Computer Printout Paper, 8.5 x 11       0.0   \n",
      "8    AZ-2011-201891  Cameo Clasp Envelope, with clear poly window       0.0   \n",
      "\n",
      "    Sales  Profit  Quantity         Category Sub-Category  \n",
      "0      26       7         2  Office Supplies       Labels  \n",
      "1      85      15         2        Furniture  Furnishings  \n",
      "2     294     109         7       Technology  Accessories  \n",
      "3     800     168         3       Technology     Machines  \n",
      "4      25     -11         4  Office Supplies          Art  \n",
      "..    ...     ...       ...              ...          ...  \n",
      "4      93      40         2       Technology  Accessories  \n",
      "5     132      54         5  Office Supplies          Art  \n",
      "6      97      12         2  Office Supplies      Binders  \n",
      "7     136      15         4  Office Supplies        Paper  \n",
      "8      52      19         4  Office Supplies    Envelopes  \n",
      "\n",
      "[68 rows x 8 columns]\n"
     ]
    }
   ],
   "source": [
    "# Read the .csv files MegaMart_sales and MegaMart_new sales into two separate dataframes, \n",
    "# combine them and store it into a new dataframe.\n",
    "df_new=pd.read_csv(\"MegaMart_sales.csv\").append(pd.read_csv(\"MegaMart_newsales.csv\"))\n",
    "print(df_new)"
   ]
  },
  {
   "cell_type": "code",
   "execution_count": 16,
   "metadata": {},
   "outputs": [
    {
     "data": {
      "text/plain": [
       "Category\n",
       "Furniture          2460\n",
       "Office Supplies    7970\n",
       "Technology         8588\n",
       "Name: Sales, dtype: int64"
      ]
     },
     "execution_count": 16,
     "metadata": {},
     "output_type": "execute_result"
    }
   ],
   "source": [
    "## Find the total sales value of the category 'Office Supplies'  after combining the dataframes.\n",
    "df_new.groupby(by='Category').Sales.sum()"
   ]
  },
  {
   "cell_type": "markdown",
   "metadata": {},
   "source": [
    "\n"
   ]
  },
  {
   "cell_type": "code",
   "execution_count": 26,
   "metadata": {},
   "outputs": [
    {
     "name": "stdout",
     "output_type": "stream",
     "text": [
      "           Order ID                                  Product Name  Discount  \\\n",
      "0   AZ-2011-1029887    Novimex Color Coded Labels, 5000 Label Set       0.0   \n",
      "1    AZ-2011-107716                Deflect-O Door Stop, Erganomic       0.0   \n",
      "2   AZ-2011-1087704                 Belkin Flash Drive, Bluetooth       0.0   \n",
      "3   AZ-2011-1372644                    Panasonic Printer, Durable       0.0   \n",
      "4   AZ-2011-1362199                     Sanford Pens, Fluorescent       0.5   \n",
      "..              ...                                           ...       ...   \n",
      "4   AZ-2011-1967754                  Logitech Numeric Keypad, USB       0.0   \n",
      "5   AZ-2011-1976919                          Boston Markers, Blue       0.0   \n",
      "6   AZ-2011-2001312                  Avery Binding Machine, Clear       0.0   \n",
      "7   AZ-2011-2002251     SanDisk Computer Printout Paper, 8.5 x 11       0.0   \n",
      "8    AZ-2011-201891  Cameo Clasp Envelope, with clear poly window       0.0   \n",
      "\n",
      "    Sales  Profit  Quantity         Category Sub-Category  \n",
      "0      26       7         2  Office Supplies       Labels  \n",
      "1      85      15         2        Furniture  Furnishings  \n",
      "2     294     109         7       Technology  Accessories  \n",
      "3     800     168         3       Technology     Machines  \n",
      "4      25     -11         4  Office Supplies          Art  \n",
      "..    ...     ...       ...              ...          ...  \n",
      "4      93      40         2       Technology  Accessories  \n",
      "5     132      54         5  Office Supplies          Art  \n",
      "6      97      12         2  Office Supplies      Binders  \n",
      "7     136      15         4  Office Supplies        Paper  \n",
      "8      52      19         4  Office Supplies    Envelopes  \n",
      "\n",
      "[61 rows x 8 columns]\n",
      "6964.0\n"
     ]
    }
   ],
   "source": [
    "## There are some duplicate rows in the data frame. \n",
    "# Drop these rows and calculate the total sales value of the category Office Supplies.\n",
    "df_new=df_new.drop_duplicates()\n",
    "print(df_new)\n",
    "\n",
    "print(df_new.groupby('Category').sum().loc['Office Supplies']['Sales'])"
   ]
  },
  {
   "cell_type": "markdown",
   "metadata": {},
   "source": [
    "#### Best category-sub category "
   ]
  },
  {
   "cell_type": "code",
   "execution_count": 28,
   "metadata": {},
   "outputs": [
    {
     "name": "stdout",
     "output_type": "stream",
     "text": [
      "Category         Sub-Category\n",
      "Furniture        Bookcases        308\n",
      "                 Chairs           -49\n",
      "                 Furnishings       74\n",
      "Office Supplies  Appliances       229\n",
      "                 Art              275\n",
      "                 Binders          156\n",
      "                 Envelopes         35\n",
      "                 Fasteners         10\n",
      "                 Labels            30\n",
      "                 Paper             15\n",
      "                 Storage          192\n",
      "                 Supplies         103\n",
      "Technology       Accessories      215\n",
      "                 Copiers            0\n",
      "                 Machines         168\n",
      "                 Phones          1618\n",
      "Name: Profit, dtype: int64\n"
     ]
    }
   ],
   "source": [
    "# Find the most profitable category and sub category combination based on the net profit.\n",
    "print(df_new.groupby(['Category','Sub-Category']).Profit.sum())"
   ]
  },
  {
   "cell_type": "markdown",
   "metadata": {},
   "source": [
    "#### Invalid order IDs"
   ]
  },
  {
   "cell_type": "code",
   "execution_count": 30,
   "metadata": {},
   "outputs": [
    {
     "name": "stdout",
     "output_type": "stream",
     "text": [
      "7    54\n",
      "6     7\n",
      "Name: no_of_digits, dtype: int64\n"
     ]
    }
   ],
   "source": [
    "## How many invalid order IDs are there in the data frame. \n",
    "# An order id is of the form AZ-2011-Y where Y represents a whole number. \n",
    "# A Order ID is said to be valid only if Y consists of 7 digits. \n",
    "## Find the number of valid order order IDs in the data frame.\n",
    "\n",
    "df_new['Order no']=df_new['Order ID'].str.split('-')\n",
    "df_new['Order no']=df_new['Order no'].apply(lambda x: x[2])\n",
    "df_new['no_of_digits']=df_new['Order no'].apply(lambda x: len(x))\n",
    "df_new['no_of_digits'].value_counts()\n",
    "print(df_new['no_of_digits'].value_counts())"
   ]
  },
  {
   "cell_type": "markdown",
   "metadata": {},
   "source": [
    "#### Occurence of furniture in top 25 sales"
   ]
  },
  {
   "cell_type": "code",
   "execution_count": 40,
   "metadata": {},
   "outputs": [
    {
     "data": {
      "text/plain": [
       "Office Supplies    11\n",
       "Technology          9\n",
       "Furniture           5\n",
       "Name: Category, dtype: int64"
      ]
     },
     "execution_count": 40,
     "metadata": {},
     "output_type": "execute_result"
    }
   ],
   "source": [
    "## Find the top 25 orders based on sales value and find the number of orders which belong to furniture category.\n",
    "df_top25=(df_new.sort_values(by='Sales',ascending=False))\n",
    "df2=df_top25.iloc[:25,]\n",
    "df2['Category'].value_counts()"
   ]
  },
  {
   "cell_type": "markdown",
   "metadata": {},
   "source": [
    "#### Operations\n",
    "Product name of the fourth highest order based on sales value."
   ]
  },
  {
   "cell_type": "code",
   "execution_count": 41,
   "metadata": {},
   "outputs": [
    {
     "name": "stdout",
     "output_type": "stream",
     "text": [
      "           Order ID                         Product Name  Discount  Sales  \\\n",
      "30  AZ-2011-1410648         Nokia Smart Phone, Full Size       0.0   1908   \n",
      "58   AZ-2011-176674                Hoover Microwave, Red       0.1   1667   \n",
      "8   AZ-2011-1174243     Nokia Audio Dock, with Caller ID       0.0   1334   \n",
      "20  AZ-2011-1322840     Motorola Headset, with Caller ID       0.0    957   \n",
      "3   AZ-2011-1372644           Panasonic Printer, Durable       0.0    800   \n",
      "18  AZ-2011-1406494         Fellowes Lockers, Industrial       0.1    748   \n",
      "39  AZ-2011-1536006      Logitech Keyboard, Programmable       0.0    666   \n",
      "33  AZ-2011-1445262          Apple Smart Phone, Cordless       0.0    636   \n",
      "31   AZ-2011-144325        Bush Stackable Bookrack, Pine       0.0    630   \n",
      "14  AZ-2011-1260928        Eldon File Cart, Single Width       0.1    576   \n",
      "12  AZ-2011-1253407       Safco Stackable Bookrack, Pine       0.1    541   \n",
      "48  AZ-2011-1672552      Binney & Smith Sketch Pad, Blue       0.0    510   \n",
      "52  AZ-2011-1722024               Cisco Audio Dock, VoIP       0.0    364   \n",
      "0   AZ-2011-1902971  Wilson Jones Binding Machine, Clear       0.0    339   \n",
      "17   AZ-2011-130330     Office Star Chairmat, Adjustable       0.1    307   \n",
      "2   AZ-2011-1087704        Belkin Flash Drive, Bluetooth       0.0    294   \n",
      "\n",
      "    Profit  Quantity         Category Sub-Category Order no  no_of_digits  \n",
      "30     820         3       Technology       Phones  1410648             7  \n",
      "58     185         6  Office Supplies   Appliances   176674             6  \n",
      "8      200         8       Technology       Phones  1174243             7  \n",
      "20     316        12       Technology       Phones  1322840             7  \n",
      "3      168         3       Technology     Machines  1372644             7  \n",
      "18     283         4  Office Supplies      Storage  1406494             7  \n",
      "39      66         9       Technology  Accessories  1536006             7  \n",
      "33     140         1       Technology       Phones  1445262             7  \n",
      "31     132         5        Furniture    Bookcases   144325             6  \n",
      "14      51         5  Office Supplies      Storage  1260928             7  \n",
      "12     156         4        Furniture    Bookcases  1253407             7  \n",
      "48     132        11  Office Supplies          Art  1672552             7  \n",
      "52     142         2       Technology       Phones  1722024             7  \n",
      "0      102         7  Office Supplies      Binders  1902971             7  \n",
      "17      99         5        Furniture       Chairs   130330             6  \n",
      "2      109         7       Technology  Accessories  1087704             7  \n"
     ]
    }
   ],
   "source": [
    "## Among the orders with sales>250 and profit>50, find the product name of the fourth highest order based on sales value.\n",
    "df3=df_new.loc[(df_new['Sales']>250) & (df_new['Profit']>50)]\n",
    "df3=df3.sort_values(by='Sales',ascending=False)\n",
    "print(df3)"
   ]
  },
  {
   "cell_type": "markdown",
   "metadata": {},
   "source": [
    "#### Column manipulation"
   ]
  },
  {
   "cell_type": "code",
   "execution_count": 43,
   "metadata": {},
   "outputs": [
    {
     "data": {
      "text/html": [
       "<div>\n",
       "<style scoped>\n",
       "    .dataframe tbody tr th:only-of-type {\n",
       "        vertical-align: middle;\n",
       "    }\n",
       "\n",
       "    .dataframe tbody tr th {\n",
       "        vertical-align: top;\n",
       "    }\n",
       "\n",
       "    .dataframe thead th {\n",
       "        text-align: right;\n",
       "    }\n",
       "</style>\n",
       "<table border=\"1\" class=\"dataframe\">\n",
       "  <thead>\n",
       "    <tr style=\"text-align: right;\">\n",
       "      <th></th>\n",
       "      <th>Order ID</th>\n",
       "      <th>Product Name</th>\n",
       "      <th>Discount</th>\n",
       "      <th>Sales</th>\n",
       "      <th>Profit</th>\n",
       "      <th>Quantity</th>\n",
       "      <th>Category</th>\n",
       "      <th>Sub-Category</th>\n",
       "      <th>Order no</th>\n",
       "      <th>no_of_digits</th>\n",
       "      <th>Profit_per_qty</th>\n",
       "    </tr>\n",
       "  </thead>\n",
       "  <tbody>\n",
       "    <tr>\n",
       "      <th>39</th>\n",
       "      <td>AZ-2011-1536006</td>\n",
       "      <td>Logitech Keyboard, Programmable</td>\n",
       "      <td>0.0</td>\n",
       "      <td>666</td>\n",
       "      <td>66</td>\n",
       "      <td>9</td>\n",
       "      <td>Technology</td>\n",
       "      <td>Accessories</td>\n",
       "      <td>1536006</td>\n",
       "      <td>7</td>\n",
       "      <td>7.333333</td>\n",
       "    </tr>\n",
       "    <tr>\n",
       "      <th>2</th>\n",
       "      <td>AZ-2011-1087704</td>\n",
       "      <td>Belkin Flash Drive, Bluetooth</td>\n",
       "      <td>0.0</td>\n",
       "      <td>294</td>\n",
       "      <td>109</td>\n",
       "      <td>7</td>\n",
       "      <td>Technology</td>\n",
       "      <td>Accessories</td>\n",
       "      <td>1087704</td>\n",
       "      <td>7</td>\n",
       "      <td>15.571429</td>\n",
       "    </tr>\n",
       "    <tr>\n",
       "      <th>4</th>\n",
       "      <td>AZ-2011-1967754</td>\n",
       "      <td>Logitech Numeric Keypad, USB</td>\n",
       "      <td>0.0</td>\n",
       "      <td>93</td>\n",
       "      <td>40</td>\n",
       "      <td>2</td>\n",
       "      <td>Technology</td>\n",
       "      <td>Accessories</td>\n",
       "      <td>1967754</td>\n",
       "      <td>7</td>\n",
       "      <td>20.000000</td>\n",
       "    </tr>\n",
       "    <tr>\n",
       "      <th>8</th>\n",
       "      <td>AZ-2011-1174243</td>\n",
       "      <td>Nokia Audio Dock, with Caller ID</td>\n",
       "      <td>0.0</td>\n",
       "      <td>1334</td>\n",
       "      <td>200</td>\n",
       "      <td>8</td>\n",
       "      <td>Technology</td>\n",
       "      <td>Phones</td>\n",
       "      <td>1174243</td>\n",
       "      <td>7</td>\n",
       "      <td>25.000000</td>\n",
       "    </tr>\n",
       "    <tr>\n",
       "      <th>20</th>\n",
       "      <td>AZ-2011-1322840</td>\n",
       "      <td>Motorola Headset, with Caller ID</td>\n",
       "      <td>0.0</td>\n",
       "      <td>957</td>\n",
       "      <td>316</td>\n",
       "      <td>12</td>\n",
       "      <td>Technology</td>\n",
       "      <td>Phones</td>\n",
       "      <td>1322840</td>\n",
       "      <td>7</td>\n",
       "      <td>26.333333</td>\n",
       "    </tr>\n",
       "    <tr>\n",
       "      <th>3</th>\n",
       "      <td>AZ-2011-1372644</td>\n",
       "      <td>Panasonic Printer, Durable</td>\n",
       "      <td>0.0</td>\n",
       "      <td>800</td>\n",
       "      <td>168</td>\n",
       "      <td>3</td>\n",
       "      <td>Technology</td>\n",
       "      <td>Machines</td>\n",
       "      <td>1372644</td>\n",
       "      <td>7</td>\n",
       "      <td>56.000000</td>\n",
       "    </tr>\n",
       "    <tr>\n",
       "      <th>52</th>\n",
       "      <td>AZ-2011-1722024</td>\n",
       "      <td>Cisco Audio Dock, VoIP</td>\n",
       "      <td>0.0</td>\n",
       "      <td>364</td>\n",
       "      <td>142</td>\n",
       "      <td>2</td>\n",
       "      <td>Technology</td>\n",
       "      <td>Phones</td>\n",
       "      <td>1722024</td>\n",
       "      <td>7</td>\n",
       "      <td>71.000000</td>\n",
       "    </tr>\n",
       "    <tr>\n",
       "      <th>33</th>\n",
       "      <td>AZ-2011-1445262</td>\n",
       "      <td>Apple Smart Phone, Cordless</td>\n",
       "      <td>0.0</td>\n",
       "      <td>636</td>\n",
       "      <td>140</td>\n",
       "      <td>1</td>\n",
       "      <td>Technology</td>\n",
       "      <td>Phones</td>\n",
       "      <td>1445262</td>\n",
       "      <td>7</td>\n",
       "      <td>140.000000</td>\n",
       "    </tr>\n",
       "    <tr>\n",
       "      <th>30</th>\n",
       "      <td>AZ-2011-1410648</td>\n",
       "      <td>Nokia Smart Phone, Full Size</td>\n",
       "      <td>0.0</td>\n",
       "      <td>1908</td>\n",
       "      <td>820</td>\n",
       "      <td>3</td>\n",
       "      <td>Technology</td>\n",
       "      <td>Phones</td>\n",
       "      <td>1410648</td>\n",
       "      <td>7</td>\n",
       "      <td>273.333333</td>\n",
       "    </tr>\n",
       "  </tbody>\n",
       "</table>\n",
       "</div>"
      ],
      "text/plain": [
       "           Order ID                      Product Name  Discount  Sales  \\\n",
       "39  AZ-2011-1536006   Logitech Keyboard, Programmable       0.0    666   \n",
       "2   AZ-2011-1087704     Belkin Flash Drive, Bluetooth       0.0    294   \n",
       "4   AZ-2011-1967754      Logitech Numeric Keypad, USB       0.0     93   \n",
       "8   AZ-2011-1174243  Nokia Audio Dock, with Caller ID       0.0   1334   \n",
       "20  AZ-2011-1322840  Motorola Headset, with Caller ID       0.0    957   \n",
       "3   AZ-2011-1372644        Panasonic Printer, Durable       0.0    800   \n",
       "52  AZ-2011-1722024            Cisco Audio Dock, VoIP       0.0    364   \n",
       "33  AZ-2011-1445262       Apple Smart Phone, Cordless       0.0    636   \n",
       "30  AZ-2011-1410648      Nokia Smart Phone, Full Size       0.0   1908   \n",
       "\n",
       "    Profit  Quantity    Category Sub-Category Order no  no_of_digits  \\\n",
       "39      66         9  Technology  Accessories  1536006             7   \n",
       "2      109         7  Technology  Accessories  1087704             7   \n",
       "4       40         2  Technology  Accessories  1967754             7   \n",
       "8      200         8  Technology       Phones  1174243             7   \n",
       "20     316        12  Technology       Phones  1322840             7   \n",
       "3      168         3  Technology     Machines  1372644             7   \n",
       "52     142         2  Technology       Phones  1722024             7   \n",
       "33     140         1  Technology       Phones  1445262             7   \n",
       "30     820         3  Technology       Phones  1410648             7   \n",
       "\n",
       "    Profit_per_qty  \n",
       "39        7.333333  \n",
       "2        15.571429  \n",
       "4        20.000000  \n",
       "8        25.000000  \n",
       "20       26.333333  \n",
       "3        56.000000  \n",
       "52       71.000000  \n",
       "33      140.000000  \n",
       "30      273.333333  "
      ]
     },
     "execution_count": 43,
     "metadata": {},
     "output_type": "execute_result"
    }
   ],
   "source": [
    "### Only Positive Profits\n",
    "## Remove the orders with negative profit by dropping the corresponding rows with negative `Profit`. \n",
    "# Find the product that makes the lowest profit per Quantity in the Technology category.\n",
    "\n",
    "df4=df_new[df_new.Profit>0]\n",
    "df4=df4.loc[df4.Category=='Technology']\n",
    "\n",
    "df4['Profit_per_qty']=df4['Profit']/df4['Quantity']\n",
    "\n",
    "df4.sort_values(by='Profit_per_qty',ascending=True)\n",
    "\n",
    "\n"
   ]
  }
 ],
 "metadata": {
  "kernelspec": {
   "display_name": "Python 3",
   "language": "python",
   "name": "python3"
  },
  "language_info": {
   "codemirror_mode": {
    "name": "ipython",
    "version": 3
   },
   "file_extension": ".py",
   "mimetype": "text/x-python",
   "name": "python",
   "nbconvert_exporter": "python",
   "pygments_lexer": "ipython3",
   "version": "3.7.5"
  }
 },
 "nbformat": 4,
 "nbformat_minor": 2
}
